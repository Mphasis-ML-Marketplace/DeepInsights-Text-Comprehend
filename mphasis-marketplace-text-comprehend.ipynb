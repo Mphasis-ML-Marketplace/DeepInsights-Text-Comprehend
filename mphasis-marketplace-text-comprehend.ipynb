{
 "cells": [
  {
   "cell_type": "markdown",
   "metadata": {},
   "source": [
    "# DeepInsights Text Comprehend\n",
    "\n",
    "Text Comprehend is a Natural Language Understanding solution that help users comprehend a passage of text. This is a state-of-the-art context aware, factoid model with bi-directional attention for comprehension. A deep contextualized embedding is used for distributed word representation. The output of the model will be a sub-string of words of variable length from the context passage.\n",
    "\n",
    "\n",
    " ### Contents\n",
    "\n",
    "1. [Preparing Input Data](#Preparing-Input-Data)\n",
    "1. [Creating Model](#Creating-Model)\n",
    "1. [Batch Transform](#Batch-Transform)\n",
    "1. [Processing Output](#Processing-Output)"
   ]
  },
  {
   "cell_type": "markdown",
   "metadata": {},
   "source": [
    "## Importing libraries for runtime"
   ]
  },
  {
   "cell_type": "code",
   "execution_count": 7,
   "metadata": {},
   "outputs": [],
   "source": [
    "import pandas as pd"
   ]
  },
  {
   "cell_type": "code",
   "execution_count": 6,
   "metadata": {},
   "outputs": [],
   "source": [
    "import boto3\n",
    "import re"
   ]
  },
  {
   "cell_type": "markdown",
   "metadata": {},
   "source": [
    "### Input Format\n",
    "   • The input has to be a '.zip' file named as “Input.zip” which contains two text files :\n",
    "        1. passage.txt – contains passage whose length should be between 100 and 1024 words.\n",
    "        2. question.txt – contains question whose length should be of minmum 3 words \n",
    "   •  The text files should follow ‘utf-8’ encoding."
   ]
  },
  {
   "cell_type": "code",
   "execution_count": null,
   "metadata": {},
   "outputs": [],
   "source": [
    "!unzip Input.zip"
   ]
  },
  {
   "cell_type": "code",
   "execution_count": 1,
   "metadata": {},
   "outputs": [
    {
     "name": "stdout",
     "output_type": "stream",
     "text": [
      "\r\n",
      "\r\n",
      "\r\n",
      "\r\n",
      "\r\n",
      "\r\n",
      "\r\n",
      "\r\n",
      "\r\n",
      "\r\n"
     ]
    }
   ],
   "source": [
    "!head passage.txt"
   ]
  },
  {
   "cell_type": "code",
   "execution_count": 14,
   "metadata": {},
   "outputs": [
    {
     "name": "stdout",
     "output_type": "stream",
     "text": [
      "Who popularized the term agile?"
     ]
    }
   ],
   "source": [
    "!head question.txt"
   ]
  },
  {
   "cell_type": "markdown",
   "metadata": {},
   "source": [
    "## Creating Model"
   ]
  },
  {
   "cell_type": "code",
   "execution_count": 1,
   "metadata": {},
   "outputs": [],
   "source": [
    "model_package_arn = 'arn:aws:sagemaker:us-east-2:786796469737:model-package/mphasis-marketplace-text-comprehend-v1'"
   ]
  },
  {
   "cell_type": "code",
   "execution_count": 2,
   "metadata": {},
   "outputs": [],
   "source": [
    "from sagemaker import ModelPackage\n",
    "import sagemaker as sage\n",
    "from sagemaker import get_execution_role\n",
    "\n",
    "role = get_execution_role()\n",
    "sagemaker_session = sage.Session()"
   ]
  },
  {
   "cell_type": "code",
   "execution_count": 3,
   "metadata": {},
   "outputs": [],
   "source": [
    "model = ModelPackage(model_package_arn=model_package_arn,\n",
    "                    role = role,\n",
    "                    sagemaker_session = sagemaker_session)"
   ]
  },
  {
   "cell_type": "markdown",
   "metadata": {},
   "source": [
    "## Batch Transform"
   ]
  },
  {
   "cell_type": "code",
   "execution_count": 4,
   "metadata": {},
   "outputs": [
    {
     "name": "stdout",
     "output_type": "stream",
     "text": [
      "........................\u001b[32m2020-03-04T05:52:11.245:[sagemaker logs]: MaxConcurrentTransforms=1, MaxPayloadInMB=6, BatchStrategy=MULTI_RECORD\u001b[0m\n",
      "\u001b[34m * Serving Flask app \"serve\" (lazy loading)\n",
      " * Environment: production\n",
      "   WARNING: This is a development server. Do not use it in a production deployment.\n",
      "   Use a production WSGI server instead.\n",
      " * Debug mode: on\n",
      " * Running on http://0.0.0.0:8080/ (Press CTRL+C to quit)\n",
      " * Restarting with stat\n",
      " * Debugger is active!\n",
      " * Debugger PIN: 375-904-931\u001b[0m\n",
      "\u001b[34m169.254.255.130 - - [04/Mar/2020 05:52:11] \"#033[37mGET /ping HTTP/1.1#033[0m\" 200 -\u001b[0m\n",
      "\u001b[34m169.254.255.130 - - [04/Mar/2020 05:52:11] \"#033[33mGET /execution-parameters HTTP/1.1#033[0m\" 404 -\u001b[0m\n",
      "\u001b[34mFile Name                                             Modified             Size\u001b[0m\n",
      "\u001b[34mpassage.txt                                    2020-02-26 14:17:38         3905\u001b[0m\n",
      "\u001b[34mquestion.txt                                   2020-02-26 14:18:38           31\u001b[0m\n",
      "\u001b[34mExtracting all the files now...\u001b[0m\n",
      "\u001b[34mDone!\u001b[0m\n",
      "\u001b[34mPassage: \u001b[0m\n",
      "\u001b[34mAGILE SOFTWARE DEVELOPMENT\n",
      "\u001b[0m\n",
      "\u001b[34mAgile software development comprises various approaches to software development under which requirements and solutions evolve through the collaborative effort of self-organizing and cross-functional teams and their customer(s)/end user(s). It advocates adaptive planning, evolutionary development, early delivery, and continual improvement, and it encourages rapid and flexible response to change.The term agile (sometimes written Agile) was popularized, in this context, by the Manifesto for Agile Software Development. The values and principles espoused in this manifesto were derived from and underpin a broad range of software development frameworks, including Scrum and Kanban.While there is much anecdotal evidence that adopting agile practices and values improves the agility of software professionals, teams and organizations, some empirical studies have disputed that evidence.\n",
      "\u001b[0m\n",
      "\u001b[34mThe Manifesto for Agile Software Development\n",
      "\u001b[0m\n",
      "\u001b[34mAgile software development values\u001b[0m\n",
      "\u001b[34mBased on their combined experience of developing software and helping others do that, the seventeen signatories to the manifesto proclaimed that they value:\u001b[0m\n",
      "\u001b[34m1.Individuals and Interactions over processes and tools\u001b[0m\n",
      "\u001b[34m2.Working Software over comprehensive documentation\u001b[0m\n",
      "\u001b[34m3.Customer Collaboration over contract negotiation\u001b[0m\n",
      "\u001b[34m4.Responding to Change over following a plan\u001b[0m\n",
      "\u001b[34mThat is to say, the items on the left are valued more than the items on the right.\n",
      "\u001b[0m\n",
      "\u001b[35m * Serving Flask app \"serve\" (lazy loading)\n",
      " * Environment: production\n",
      "   WARNING: This is a development server. Do not use it in a production deployment.\n",
      "   Use a production WSGI server instead.\n",
      " * Debug mode: on\n",
      " * Running on http://0.0.0.0:8080/ (Press CTRL+C to quit)\n",
      " * Restarting with stat\n",
      " * Debugger is active!\n",
      " * Debugger PIN: 375-904-931\u001b[0m\n",
      "\u001b[35m169.254.255.130 - - [04/Mar/2020 05:52:11] \"#033[37mGET /ping HTTP/1.1#033[0m\" 200 -\u001b[0m\n",
      "\u001b[35m169.254.255.130 - - [04/Mar/2020 05:52:11] \"#033[33mGET /execution-parameters HTTP/1.1#033[0m\" 404 -\u001b[0m\n",
      "\u001b[35mFile Name                                             Modified             Size\u001b[0m\n",
      "\u001b[35mpassage.txt                                    2020-02-26 14:17:38         3905\u001b[0m\n",
      "\u001b[35mquestion.txt                                   2020-02-26 14:18:38           31\u001b[0m\n",
      "\u001b[35mExtracting all the files now...\u001b[0m\n",
      "\u001b[35mDone!\u001b[0m\n",
      "\u001b[35mPassage: \u001b[0m\n",
      "\u001b[35mAGILE SOFTWARE DEVELOPMENT\n",
      "\u001b[0m\n",
      "\u001b[35mAgile software development comprises various approaches to software development under which requirements and solutions evolve through the collaborative effort of self-organizing and cross-functional teams and their customer(s)/end user(s). It advocates adaptive planning, evolutionary development, early delivery, and continual improvement, and it encourages rapid and flexible response to change.The term agile (sometimes written Agile) was popularized, in this context, by the Manifesto for Agile Software Development. The values and principles espoused in this manifesto were derived from and underpin a broad range of software development frameworks, including Scrum and Kanban.While there is much anecdotal evidence that adopting agile practices and values improves the agility of software professionals, teams and organizations, some empirical studies have disputed that evidence.\n",
      "\u001b[0m\n",
      "\u001b[35mThe Manifesto for Agile Software Development\n",
      "\u001b[0m\n",
      "\u001b[35mAgile software development values\u001b[0m\n",
      "\u001b[35mBased on their combined experience of developing software and helping others do that, the seventeen signatories to the manifesto proclaimed that they value:\u001b[0m\n",
      "\u001b[35m1.Individuals and Interactions over processes and tools\u001b[0m\n",
      "\u001b[35m2.Working Software over comprehensive documentation\u001b[0m\n",
      "\u001b[35m3.Customer Collaboration over contract negotiation\u001b[0m\n",
      "\u001b[35m4.Responding to Change over following a plan\u001b[0m\n",
      "\u001b[35mThat is to say, the items on the left are valued more than the items on the right.\n",
      "\u001b[0m\n",
      "\u001b[34mAs Scott Ambler elucidated:\u001b[0m\n",
      "\u001b[34mTools and processes are important, but it is more important to have competent people working together effectively. Good documentation is useful in helping people to understand how the software is built and how to use it, but the main point of development is to create software, not documentation. A contract is important but is no substitute for working closely with customers to discover what they need. A project plan is important, but it must not be too rigid to accommodate changes in technology or the environment, stakeholders' priorities, and people's understanding of the problem and its solution. Some of the authors formed the Agile Alliance, a non-profit organization that promotes software development according to the manifesto's values and principles. \u001b[0m\n",
      "\u001b[34mIntroducing the manifesto on behalf of the Agile Alliance, Jim Highsmith said, The Agile movement is not anti-methodology, in fact many of us want to restore credibility to the word methodology. We want to restore a balance. We embrace modeling, but not in order to file some diagram in a dusty corporate repository. We embrace documentation, but not hundreds of pages of never maintained and rarely used tomes. We plan but recognize the limits of planning in a turbulent environment. Those who would brand proponents of XP or SCRUM or any of the other Agile Methodologies as \"hackers\" are ignorant of both the methodologies and the original definition of the term hacker.\n",
      "\u001b[0m\n",
      "\u001b[34mAgile software development principles\u001b[0m\n",
      "\u001b[34mThe Manifesto for Agile Software Development is based on twelve principles:\n",
      "\u001b[0m\n",
      "\u001b[34m1.Customer satisfaction by early and continuous delivery of valuable software.\u001b[0m\n",
      "\u001b[34m2.Welcome changing requirements, even in late development.\u001b[0m\n",
      "\u001b[34m3.Deliver working software frequently (weeks rather than months)\u001b[0m\n",
      "\u001b[34m4.Close, daily cooperation between businesspeople and developers\u001b[0m\n",
      "\u001b[34m5.Projects are built around motivated individuals, who should be trusted\u001b[0m\n",
      "\u001b[34m6.Face-to-face conversation is the best form of communication (co-location)\u001b[0m\n",
      "\u001b[34m7.Working software is the primary measure of progress\u001b[0m\n",
      "\u001b[34m8.Sustainable development, able to maintain a constant pace\u001b[0m\n",
      "\u001b[34m9.Continuous attention to technical excellence and good design\u001b[0m\n",
      "\u001b[34m10.Simplicity—the art of maximizing the amount of work not done—is essential\u001b[0m\n",
      "\u001b[34m11.Best architectures, requirements, and designs emerge from self-organizing teams\u001b[0m\n",
      "\u001b[34m12.Regularly, the team reflects on how to become more effective, and adjusts accordingly\n",
      "\u001b[0m\n",
      "\u001b[34mQuestion: \u001b[0m\n",
      "\u001b[34mWho popularized the term agile?\u001b[0m\n",
      "\u001b[35mAs Scott Ambler elucidated:\u001b[0m\n",
      "\u001b[35mTools and processes are important, but it is more important to have competent people working together effectively. Good documentation is useful in helping people to understand how the software is built and how to use it, but the main point of development is to create software, not documentation. A contract is important but is no substitute for working closely with customers to discover what they need. A project plan is important, but it must not be too rigid to accommodate changes in technology or the environment, stakeholders' priorities, and people's understanding of the problem and its solution. Some of the authors formed the Agile Alliance, a non-profit organization that promotes software development according to the manifesto's values and principles. \u001b[0m\n",
      "\u001b[35mIntroducing the manifesto on behalf of the Agile Alliance, Jim Highsmith said, The Agile movement is not anti-methodology, in fact many of us want to restore credibility to the word methodology. We want to restore a balance. We embrace modeling, but not in order to file some diagram in a dusty corporate repository. We embrace documentation, but not hundreds of pages of never maintained and rarely used tomes. We plan but recognize the limits of planning in a turbulent environment. Those who would brand proponents of XP or SCRUM or any of the other Agile Methodologies as \"hackers\" are ignorant of both the methodologies and the original definition of the term hacker.\n",
      "\u001b[0m\n",
      "\u001b[35mAgile software development principles\u001b[0m\n",
      "\u001b[35mThe Manifesto for Agile Software Development is based on twelve principles:\n",
      "\u001b[0m\n",
      "\u001b[35m1.Customer satisfaction by early and continuous delivery of valuable software.\u001b[0m\n",
      "\u001b[35m2.Welcome changing requirements, even in late development.\u001b[0m\n",
      "\u001b[35m3.Deliver working software frequently (weeks rather than months)\u001b[0m\n",
      "\u001b[35m4.Close, daily cooperation between businesspeople and developers\u001b[0m\n",
      "\u001b[35m5.Projects are built around motivated individuals, who should be trusted\u001b[0m\n",
      "\u001b[35m6.Face-to-face conversation is the best form of communication (co-location)\u001b[0m\n",
      "\u001b[35m7.Working software is the primary measure of progress\u001b[0m\n",
      "\u001b[35m8.Sustainable development, able to maintain a constant pace\u001b[0m\n",
      "\u001b[35m9.Continuous attention to technical excellence and good design\u001b[0m\n",
      "\u001b[35m10.Simplicity—the art of maximizing the amount of work not done—is essential\u001b[0m\n",
      "\u001b[35m11.Best architectures, requirements, and designs emerge from self-organizing teams\u001b[0m\n",
      "\u001b[35m12.Regularly, the team reflects on how to become more effective, and adjusts accordingly\n",
      "\u001b[0m\n",
      "\u001b[35mQuestion: \u001b[0m\n",
      "\u001b[35mWho popularized the term agile?\u001b[0m\n",
      "\n",
      "Batch Transform complete\n"
     ]
    }
   ],
   "source": [
    "import json \n",
    "import uuid\n",
    "\n",
    "\n",
    "transformer = model.transformer(1, 'ml.m5.large')\n",
    "transformer.transform('s3://aws-marketplace-mphasis-assets/text-comprehend/Input.zip', content_type='application/zip')\n",
    "transformer.wait()\n",
    "print(\"Batch Transform complete\")\n",
    "bucketFolder = transformer.output_path.rsplit('/')[3]\n"
   ]
  },
  {
   "cell_type": "code",
   "execution_count": 8,
   "metadata": {},
   "outputs": [
    {
     "name": "stdout",
     "output_type": "stream",
     "text": [
      "Output file loaded from bucket\n"
     ]
    }
   ],
   "source": [
    "#print(s3bucket,s3prefix)\n",
    "s3_conn = boto3.client(\"s3\")\n",
    "bucket_name=\"sagemaker-us-east-2-786796469737\"\n",
    "with open('text_comprehend_output.csv', 'wb') as f:\n",
    "    s3_conn.download_fileobj(bucket_name, bucketFolder+'/Input.zip.out', f)\n",
    "    print(\"Output file loaded from bucket\")"
   ]
  },
  {
   "cell_type": "markdown",
   "metadata": {},
   "source": [
    "# Processing Output\n",
    "\n",
    "Output file will be a .txt file named as answer.txt that contains the answer to the question in the input question.txt\n"
   ]
  },
  {
   "cell_type": "code",
   "execution_count": 18,
   "metadata": {},
   "outputs": [
    {
     "data": {
      "text/html": [
       "<div>\n",
       "<style scoped>\n",
       "    .dataframe tbody tr th:only-of-type {\n",
       "        vertical-align: middle;\n",
       "    }\n",
       "\n",
       "    .dataframe tbody tr th {\n",
       "        vertical-align: top;\n",
       "    }\n",
       "\n",
       "    .dataframe thead th {\n",
       "        text-align: right;\n",
       "    }\n",
       "</style>\n",
       "<table border=\"1\" class=\"dataframe\">\n",
       "  <thead>\n",
       "    <tr style=\"text-align: right;\">\n",
       "      <th></th>\n",
       "      <th>Type</th>\n",
       "      <th>Content</th>\n",
       "    </tr>\n",
       "  </thead>\n",
       "  <tbody>\n",
       "    <tr>\n",
       "      <th>0</th>\n",
       "      <td>Question</td>\n",
       "      <td>Who popularized the term agile?</td>\n",
       "    </tr>\n",
       "    <tr>\n",
       "      <th>1</th>\n",
       "      <td>Answer</td>\n",
       "      <td>the Manifesto for Agile Software Development</td>\n",
       "    </tr>\n",
       "  </tbody>\n",
       "</table>\n",
       "</div>"
      ],
      "text/plain": [
       "        Type                                       Content\n",
       "0  Question                Who popularized the term agile?\n",
       "1    Answer   the Manifesto for Agile Software Development"
      ]
     },
     "execution_count": 18,
     "metadata": {},
     "output_type": "execute_result"
    }
   ],
   "source": [
    "output_df  = pd.read_csv(\"text_comprehend_output.csv\")\n",
    "output_df.rename(columns = {\"Unnamed: 0\":\"Type\",\"0\":\"Content\"},inplace = True)\n",
    "output_df.head()"
   ]
  },
  {
   "cell_type": "code",
   "execution_count": null,
   "metadata": {},
   "outputs": [],
   "source": []
  }
 ],
 "metadata": {
  "kernelspec": {
   "display_name": "Python 3",
   "language": "python",
   "name": "python3"
  },
  "language_info": {
   "codemirror_mode": {
    "name": "ipython",
    "version": 3
   },
   "file_extension": ".py",
   "mimetype": "text/x-python",
   "name": "python",
   "nbconvert_exporter": "python",
   "pygments_lexer": "ipython3",
   "version": "3.6.0"
  }
 },
 "nbformat": 4,
 "nbformat_minor": 2
}
